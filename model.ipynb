{
  "nbformat": 4,
  "nbformat_minor": 0,
  "metadata": {
    "colab": {
      "name": "model.ipynb",
      "provenance": [],
      "collapsed_sections": []
    },
    "kernelspec": {
      "name": "python3",
      "display_name": "Python 3"
    },
    "language_info": {
      "name": "python"
    },
    "accelerator": "GPU"
  },
  "cells": [
    {
      "cell_type": "code",
      "execution_count": 2,
      "metadata": {
        "id": "Zuz8dLj-YJk0"
      },
      "outputs": [],
      "source": [
        "from sklearn.model_selection import train_test_split\n",
        "import tensorflow as tf\n",
        "from tensorflow import keras\n",
        "from tensorflow.keras.datasets import mnist\n",
        "from tensorflow.keras.models import Sequential, Model, load_model, model_from_json\n",
        "from tensorflow.keras.layers import Dense, Dropout, Input, Activation, Conv2D, MaxPooling2D, Flatten\n",
        "from tensorflow.keras.optimizers import RMSprop, SGD, Adagrad, Adadelta, Adam \n",
        "from tensorflow.keras.utils import plot_model\n",
        "from tensorflow.keras.callbacks import ModelCheckpoint, EarlyStopping\n",
        "from tensorflow.keras.callbacks import EarlyStopping, ModelCheckpoint\n",
        "from tensorflow.keras import metrics\n",
        "from tensorflow.keras import losses\n",
        "from tensorflow import keras\n",
        "from tensorflow.keras import layers\n",
        "from tensorflow.keras.models import Sequential\n",
        "import numpy as np"
      ]
    },
    {
      "cell_type": "code",
      "source": [
        "x = np.load('/content/drive/MyDrive/x.npy')\n",
        "y = np.load('/content/drive/MyDrive/y.npy')\n",
        "x=np.array(x).astype('float32')\n",
        "x /= np.amax(x)\n",
        "\n",
        "X_train, X_test, y_train, y_test = train_test_split(x, y, test_size=0.2, random_state=42)\n",
        "y_train = keras.utils.to_categorical(y_train, 4)\n",
        "y_test = keras.utils.to_categorical(y_test, 4)"
      ],
      "metadata": {
        "id": "e2l4NQ2KYRB8"
      },
      "execution_count": 3,
      "outputs": []
    },
    {
      "cell_type": "code",
      "source": [
        "model = Sequential()\n",
        "model.add(Conv2D(input_shape=(X_train[0].shape),filters=16,kernel_size=(3,3),padding=\"same\", activation=\"relu\"))\n",
        "model.add(Conv2D(filters=16,kernel_size=(3,3),padding=\"same\", activation=\"relu\"))\n",
        "model.add(MaxPooling2D(pool_size=(2,2),strides=(2,2)))\n",
        "model.add(Conv2D(filters=32, kernel_size=(3,3), padding=\"same\", activation=\"relu\"))\n",
        "model.add(Conv2D(filters=32, kernel_size=(3,3), padding=\"same\", activation=\"relu\"))\n",
        "model.add(MaxPooling2D(pool_size=(34,34),strides=(34,34)))\n",
        "model.add(Flatten())\n",
        "model.add(Dense(units=64,activation=\"relu\"))\n",
        "model.add(Dense(units=32,activation=\"relu\"))\n",
        "model.add(Dense(units=4, activation=\"softmax\"))\n",
        "opt = Adam(lr=0.001)\n",
        "model.compile(optimizer=opt, loss=keras.losses.categorical_crossentropy, metrics=['accuracy'])\n",
        "model.summary()"
      ],
      "metadata": {
        "colab": {
          "base_uri": "https://localhost:8080/"
        },
        "id": "ZzgIki6ChsKG",
        "outputId": "9fd41b40-8c9d-4dc1-fe8a-6333e27ea403"
      },
      "execution_count": 4,
      "outputs": [
        {
          "output_type": "stream",
          "name": "stdout",
          "text": [
            "Model: \"sequential\"\n",
            "_________________________________________________________________\n",
            " Layer (type)                Output Shape              Param #   \n",
            "=================================================================\n",
            " conv2d (Conv2D)             (None, 258, 258, 16)      448       \n",
            "                                                                 \n",
            " conv2d_1 (Conv2D)           (None, 258, 258, 16)      2320      \n",
            "                                                                 \n",
            " max_pooling2d (MaxPooling2D  (None, 129, 129, 16)     0         \n",
            " )                                                               \n",
            "                                                                 \n",
            " conv2d_2 (Conv2D)           (None, 129, 129, 32)      4640      \n",
            "                                                                 \n",
            " conv2d_3 (Conv2D)           (None, 129, 129, 32)      9248      \n",
            "                                                                 \n",
            " max_pooling2d_1 (MaxPooling  (None, 3, 3, 32)         0         \n",
            " 2D)                                                             \n",
            "                                                                 \n",
            " flatten (Flatten)           (None, 288)               0         \n",
            "                                                                 \n",
            " dense (Dense)               (None, 64)                18496     \n",
            "                                                                 \n",
            " dense_1 (Dense)             (None, 32)                2080      \n",
            "                                                                 \n",
            " dense_2 (Dense)             (None, 4)                 132       \n",
            "                                                                 \n",
            "=================================================================\n",
            "Total params: 37,364\n",
            "Trainable params: 37,364\n",
            "Non-trainable params: 0\n",
            "_________________________________________________________________\n"
          ]
        },
        {
          "output_type": "stream",
          "name": "stderr",
          "text": [
            "/usr/local/lib/python3.7/dist-packages/keras/optimizer_v2/adam.py:105: UserWarning: The `lr` argument is deprecated, use `learning_rate` instead.\n",
            "  super(Adam, self).__init__(name, **kwargs)\n"
          ]
        }
      ]
    },
    {
      "cell_type": "code",
      "source": [
        "model.fit(X_train, y_train, epochs=30, batch_size=40)"
      ],
      "metadata": {
        "colab": {
          "base_uri": "https://localhost:8080/"
        },
        "id": "axg9t50hY0T7",
        "outputId": "cc273209-b605-43f7-acae-4a5b4eadd16a"
      },
      "execution_count": 5,
      "outputs": [
        {
          "output_type": "stream",
          "name": "stdout",
          "text": [
            "Epoch 1/30\n",
            "40/40 [==============================] - 39s 200ms/step - loss: 1.3902 - accuracy: 0.2463\n",
            "Epoch 2/30\n",
            "40/40 [==============================] - 8s 199ms/step - loss: 1.3835 - accuracy: 0.2656\n",
            "Epoch 3/30\n",
            "40/40 [==============================] - 8s 200ms/step - loss: 1.3682 - accuracy: 0.3225\n",
            "Epoch 4/30\n",
            "40/40 [==============================] - 8s 201ms/step - loss: 1.3144 - accuracy: 0.3512\n",
            "Epoch 5/30\n",
            "40/40 [==============================] - 8s 200ms/step - loss: 1.2158 - accuracy: 0.4125\n",
            "Epoch 6/30\n",
            "40/40 [==============================] - 8s 200ms/step - loss: 1.0997 - accuracy: 0.4800\n",
            "Epoch 7/30\n",
            "40/40 [==============================] - 8s 199ms/step - loss: 1.0459 - accuracy: 0.5138\n",
            "Epoch 8/30\n",
            "40/40 [==============================] - 8s 198ms/step - loss: 0.9960 - accuracy: 0.5606\n",
            "Epoch 9/30\n",
            "40/40 [==============================] - 8s 200ms/step - loss: 0.9365 - accuracy: 0.5706\n",
            "Epoch 10/30\n",
            "40/40 [==============================] - 8s 198ms/step - loss: 0.8938 - accuracy: 0.6037\n",
            "Epoch 11/30\n",
            "40/40 [==============================] - 8s 201ms/step - loss: 0.8295 - accuracy: 0.6363\n",
            "Epoch 12/30\n",
            "40/40 [==============================] - 8s 199ms/step - loss: 0.8308 - accuracy: 0.6363\n",
            "Epoch 13/30\n",
            "40/40 [==============================] - 8s 200ms/step - loss: 0.7493 - accuracy: 0.6744\n",
            "Epoch 14/30\n",
            "40/40 [==============================] - 8s 202ms/step - loss: 0.6984 - accuracy: 0.7119\n",
            "Epoch 15/30\n",
            "40/40 [==============================] - 8s 199ms/step - loss: 0.6776 - accuracy: 0.7250\n",
            "Epoch 16/30\n",
            "40/40 [==============================] - 8s 199ms/step - loss: 0.6417 - accuracy: 0.7437\n",
            "Epoch 17/30\n",
            "40/40 [==============================] - 8s 200ms/step - loss: 0.5716 - accuracy: 0.7744\n",
            "Epoch 18/30\n",
            "40/40 [==============================] - 8s 199ms/step - loss: 0.5943 - accuracy: 0.7475\n",
            "Epoch 19/30\n",
            "40/40 [==============================] - 8s 200ms/step - loss: 0.4693 - accuracy: 0.8125\n",
            "Epoch 20/30\n",
            "40/40 [==============================] - 8s 200ms/step - loss: 0.4535 - accuracy: 0.8156\n",
            "Epoch 21/30\n",
            "40/40 [==============================] - 8s 201ms/step - loss: 0.4130 - accuracy: 0.8344\n",
            "Epoch 22/30\n",
            "40/40 [==============================] - 8s 200ms/step - loss: 0.3726 - accuracy: 0.8619\n",
            "Epoch 23/30\n",
            "40/40 [==============================] - 8s 199ms/step - loss: 0.3975 - accuracy: 0.8450\n",
            "Epoch 24/30\n",
            "40/40 [==============================] - 8s 199ms/step - loss: 0.3169 - accuracy: 0.8763\n",
            "Epoch 25/30\n",
            "40/40 [==============================] - 8s 201ms/step - loss: 0.3107 - accuracy: 0.8831\n",
            "Epoch 26/30\n",
            "40/40 [==============================] - 8s 199ms/step - loss: 0.2756 - accuracy: 0.9013\n",
            "Epoch 27/30\n",
            "40/40 [==============================] - 8s 199ms/step - loss: 0.2577 - accuracy: 0.8975\n",
            "Epoch 28/30\n",
            "40/40 [==============================] - 8s 199ms/step - loss: 0.2117 - accuracy: 0.9300\n",
            "Epoch 29/30\n",
            "40/40 [==============================] - 8s 198ms/step - loss: 0.1949 - accuracy: 0.9294\n",
            "Epoch 30/30\n",
            "40/40 [==============================] - 8s 199ms/step - loss: 0.2056 - accuracy: 0.9256\n"
          ]
        },
        {
          "output_type": "execute_result",
          "data": {
            "text/plain": [
              "<keras.callbacks.History at 0x7fc580032c10>"
            ]
          },
          "metadata": {},
          "execution_count": 5
        }
      ]
    },
    {
      "cell_type": "code",
      "source": [
        "score = model.evaluate(X_test, y_test, verbose=0)\n",
        "print('Test loss:', score[0])\n",
        "print('Test accuracy:', score[1])"
      ],
      "metadata": {
        "colab": {
          "base_uri": "https://localhost:8080/"
        },
        "id": "TZQIyEaFY2QI",
        "outputId": "d9b0f2c6-52a7-4a9d-c8ac-50002fe63b71"
      },
      "execution_count": 6,
      "outputs": [
        {
          "output_type": "stream",
          "name": "stdout",
          "text": [
            "Test loss: 0.8925546407699585\n",
            "Test accuracy: 0.6974999904632568\n"
          ]
        }
      ]
    }
  ]
}