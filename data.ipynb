{
  "cells": [
    {
      "cell_type": "code",
      "execution_count": null,
      "metadata": {
        "id": "XG1EdWyLYF0t"
      },
      "outputs": [],
      "source": [
        "!pip install simple_image_download\n",
        "!pip install cvzone\n",
        "!pip install mediapipe"
      ]
    },
    {
      "cell_type": "code",
      "execution_count": null,
      "metadata": {
        "id": "I7iPhTcfYL2X"
      },
      "outputs": [],
      "source": [
        "from simple_image_download import simple_image_download as simp\n",
        "import cvzone\n",
        "import cv2\n",
        "from cvzone.SelfiSegmentationModule import SelfiSegmentation\n",
        "from PIL import Image\n",
        "import os\n",
        "import matplotlib.pyplot as plt\n",
        "import numpy as np\n",
        "import requests\n",
        "from requests.exceptions import Timeout, ConnectionError\n",
        "import random\n",
        "from scipy import ndimage\n",
        "segmentor=SelfiSegmentation()\n",
        "response = simp.simple_image_download"
      ]
    },
    {
      "cell_type": "code",
      "execution_count": null,
      "metadata": {
        "id": "4N-CPoM_YNrI"
      },
      "outputs": [],
      "source": [
        "def load_images_from_folder(folder):\n",
        "    images = []\n",
        "    for filename in os.listdir(folder):\n",
        "        img = os.path.join(folder,filename) \n",
        "        if img is not None:\n",
        "            images.append(img)\n",
        "    return images"
      ]
    },
    {
      "cell_type": "code",
      "execution_count": null,
      "metadata": {
        "id": "nNa7_6utYU3m"
      },
      "outputs": [],
      "source": [
        "breed=['Siberian Huskie','French Bulldog','Dachshund','Dalmatian','park background']"
      ]
    },
    {
      "cell_type": "code",
      "execution_count": null,
      "metadata": {
        "id": "9HxIMBJ4YVdz"
      },
      "outputs": [],
      "source": [
        "for b in breed:\n",
        "  urls=response().urls(b,30)\n",
        "  for url in urls:\n",
        "      try:\n",
        "          res= requests.get(url, timeout=2)\n",
        "          !wget --no-check-certificate \\\n",
        "          -c --tries=0 --read-timeout=20\\\n",
        "          '{url}' \\\n",
        "          -P '/content/simple_images/{b}'\n",
        "      except (ConnectionError, Timeout):\n",
        "          print(url)"
      ]
    },
    {
      "cell_type": "code",
      "execution_count": null,
      "metadata": {
        "id": "7YTgYkRdYYM1"
      },
      "outputs": [],
      "source": [
        "folders=load_images_from_folder('/content/simple_images')\n",
        "for folder in folders:\n",
        "  images=load_images_from_folder(folder)\n",
        "  for image in images:\n",
        "    if type(cv2.imread(image))!=np.ndarray:\n",
        "      !rm '{image}'"
      ]
    },
    {
      "cell_type": "code",
      "execution_count": null,
      "metadata": {
        "id": "-zmARwNeYZvk"
      },
      "outputs": [],
      "source": [
        "class Preprocess():\n",
        "  def __init__(self, pos, th):\n",
        "    self.th = th\n",
        "    self.pos=pos\n",
        "\n",
        "  def remove_background(self):\n",
        "    pic=cv2.imread(self.imagePath)\n",
        "    imgOut=segmentor.removeBG(pic,(0,0,0),threshold=self.th)\n",
        "    cv2.imwrite('sample' + '.png', imgOut)\n",
        "    plt.imshow(imgOut)\n",
        "    img = Image.open('sample.png')\n",
        "    rgba = img.convert(\"RGBA\")\n",
        "    datas = rgba.getdata()\n",
        "      \n",
        "    newData = []\n",
        "    for item in datas:\n",
        "        if item[0] == 0 and item[1] == 0 and item[2] == 0:  \n",
        "            newData.append((255, 255, 255, 0))\n",
        "        else:\n",
        "            newData.append(item)  \n",
        "      \n",
        "    rgba.putdata(newData)\n",
        "    rgba.save(\"sample.png\", \"PNG\")\n",
        "    return cv2.imread('sample.png',cv2.IMREAD_UNCHANGED)\n",
        "\n",
        "  def add_background(self):\n",
        "    background=cv2.imread(self.bgPath)\n",
        "    background=cv2.resize(background,(56,56))\n",
        "    pic=self.remove_background()\n",
        "    pic=cv2.resize(pic,(random.randrange(28)+28,random.randrange(28)+28))\n",
        "    pic = ndimage.rotate(pic, random.randrange(360))\n",
        "    res=cvzone.overlayPNG(background,pic,self.pos)\n",
        "    return res\n",
        "  \n",
        "  def draw(self,imagePath, bgPath):\n",
        "    self.imagePath=imagePath\n",
        "    self.bgPath=bgPath\n",
        "    return self.add_background()"
      ]
    },
    {
      "cell_type": "code",
      "execution_count": null,
      "metadata": {
        "id": "uuAHsne3Ybbf"
      },
      "outputs": [],
      "source": [
        "pp=Preprocess([0,0],0.1)\n",
        "breed=load_images_from_folder('/content/simple_images')\n",
        "backgrounds=load_images_from_folder('/content/simple_images/park background')\n",
        "dataset=[]\n",
        "for b in breed:\n",
        "  dogs=load_images_from_folder(b)\n",
        "  test=[]\n",
        "  while len(test)<1000:\n",
        "    try:\n",
        "      pp.pos=[random.randrange(258),random.randrange(258)]\n",
        "      test.append(pp.draw(random.choice(dogs),random.choice(backgrounds)))\n",
        "    except:\n",
        "      if(len(test)%100==0):\n",
        "        print(len(test))\n",
        "  dataset.append(test)"
      ]
    },
    {
      "cell_type": "code",
      "execution_count": null,
      "metadata": {
        "id": "8CmfaHmbYcRa"
      },
      "outputs": [],
      "source": [
        "pp=Preprocess([0,0],0.1)\n",
        "breed=load_images_from_folder('/content/simple_images')\n",
        "backgrounds=load_images_from_folder('/content/simple_images/park background')\n",
        "dataset=[]"
      ]
    },
    {
      "cell_type": "code",
      "execution_count": null,
      "metadata": {
        "id": "sIBY3rTfYesb"
      },
      "outputs": [],
      "source": [
        "b=breed[4]\n",
        "dogs=load_images_from_folder(b)\n",
        "test=[]\n",
        "while len(test)<500:\n",
        "  try:\n",
        "    pp.pos=[random.randrange(56),random.randrange(56)]\n",
        "    test.append(pp.draw(random.choice(dogs),random.choice(backgrounds)))\n",
        "  except:\n",
        "    if(len(test)%100==0):\n",
        "      print(len(test))\n",
        "dataset.append(test)"
      ]
    },
    {
      "cell_type": "code",
      "execution_count": null,
      "metadata": {
        "id": "khyUKtxvYgWz"
      },
      "outputs": [],
      "source": [
        "c=0\n",
        "for data in dataset:\n",
        "  for image in data:\n",
        "    c+=1\n",
        "    cv2.imwrite(f'/content/dataset/{c}.png', image)"
      ]
    },
    {
      "cell_type": "code",
      "execution_count": null,
      "metadata": {
        "id": "aU-0tOW-YhE-"
      },
      "outputs": [],
      "source": [
        "plt.imshow(dataset[3][5])"
      ]
    },
    {
      "cell_type": "code",
      "execution_count": null,
      "metadata": {
        "id": "K00SojeqYlS4"
      },
      "outputs": [],
      "source": [
        "dataset=[]\n",
        "for i in range(4):\n",
        "  test=[]\n",
        "  for j in range(1,501):\n",
        "    test.append(cv2.imread(f'/content/drive/MyDrive/dataset/{i*500+j}.png'))\n",
        "  dataset.append(test)"
      ]
    },
    {
      "cell_type": "code",
      "execution_count": null,
      "metadata": {
        "id": "2sk05Oa9a6Xj"
      },
      "outputs": [],
      "source": [
        "x=[]\n",
        "y=[]\n",
        "for i in range(len(dataset)):\n",
        "    for item in dataset[i]:\n",
        "        y.append(i)\n",
        "        x.append(item)\n",
        "y=np.array(y)\n",
        "x=np.array(x).astype('float32')\n",
        "x /= np.amax(x)"
      ]
    },
    {
      "cell_type": "code",
      "execution_count": null,
      "metadata": {
        "id": "xLv-TAoEbQKp"
      },
      "outputs": [],
      "source": [
        "np.save('/content/drive/MyDrive/x', x)\n",
        "np.save('/content/drive/MyDrive/y', y)"
      ]
    }
  ],
  "metadata": {
    "colab": {
      "collapsed_sections": [],
      "name": "data.ipynb",
      "provenance": []
    },
    "kernelspec": {
      "display_name": "Python 3",
      "name": "python3"
    },
    "language_info": {
      "name": "python"
    }
  },
  "nbformat": 4,
  "nbformat_minor": 0
}
